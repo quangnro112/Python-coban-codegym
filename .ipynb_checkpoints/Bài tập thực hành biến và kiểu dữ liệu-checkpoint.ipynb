{
 "cells": [
  {
   "cell_type": "code",
   "execution_count": null,
   "id": "b2dc36d2",
   "metadata": {},
   "outputs": [],
   "source": []
  },
  {
   "cell_type": "code",
   "execution_count": 29,
   "id": "77cf29f4",
   "metadata": {},
   "outputs": [
    {
     "name": "stdout",
     "output_type": "stream",
     "text": [
      "nhập chỉ số độ C: 53.23\n",
      "chỉ số độ F sau chuyển đổi:  127.814 f\n"
     ]
    }
   ],
   "source": [
    "# chuyển đổi độ C thành độ F\n",
    "c = input('nhập chỉ số độ C: ')\n",
    "f = (9*(float(c))/5)+32\n",
    "dof = \"chỉ số độ F sau chuyển đổi: \"\n",
    "print(dof, f,\"f\")\n"
   ]
  },
  {
   "cell_type": "code",
   "execution_count": null,
   "id": "492ee47c",
   "metadata": {},
   "outputs": [],
   "source": []
  }
 ],
 "metadata": {
  "kernelspec": {
   "display_name": "Python 3 (ipykernel)",
   "language": "python",
   "name": "python3"
  },
  "language_info": {
   "codemirror_mode": {
    "name": "ipython",
    "version": 3
   },
   "file_extension": ".py",
   "mimetype": "text/x-python",
   "name": "python",
   "nbconvert_exporter": "python",
   "pygments_lexer": "ipython3",
   "version": "3.10.2"
  }
 },
 "nbformat": 4,
 "nbformat_minor": 5
}
